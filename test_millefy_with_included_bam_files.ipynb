{
 "cells": [
  {
   "cell_type": "markdown",
   "metadata": {},
   "source": [
    "# Example usage of Millefy: Attempting to use Bam files included with external data (`extdata`)!!\n",
    "\n",
    "Where the BigWig files used in [the original notebook](https://nbviewer.org/github/yuifu/datascience-notebook-millefy/blob/90f30181e77657566bc2b87c0f70fa5118c4c9fb/examples/test_millefy.ipynb) are stored, I found there were also Bam files. Does millefy work with those since [the documentation](https://github.com/yuifu/millefy/blob/cf6cf0c8494df394b71702bfb928ef6bce2c7273/tutorial/Tutorial.md) says input can be Bam files in several places?"
   ]
  },
  {
   "cell_type": "code",
   "execution_count": 5,
   "metadata": {
    "tags": []
   },
   "outputs": [
    {
     "name": "stderr",
     "output_type": "stream",
     "text": [
      "Warning message:\n",
      "“replacing previous import ‘IRanges::shift’ by ‘data.table::shift’ when loading ‘millefy’”\n",
      "Warning message:\n",
      "“replacing previous import ‘IRanges::distance’ by ‘destiny::distance’ when loading ‘millefy’”\n",
      "Warning message:\n",
      "“replacing previous import ‘data.table::first’ by ‘dplyr::first’ when loading ‘millefy’”\n",
      "Warning message:\n",
      "“replacing previous import ‘IRanges::desc’ by ‘dplyr::desc’ when loading ‘millefy’”\n",
      "Warning message:\n",
      "“replacing previous import ‘IRanges::slice’ by ‘dplyr::slice’ when loading ‘millefy’”\n",
      "Warning message:\n",
      "“replacing previous import ‘IRanges::intersect’ by ‘dplyr::intersect’ when loading ‘millefy’”\n",
      "Warning message:\n",
      "“replacing previous import ‘data.table::last’ by ‘dplyr::last’ when loading ‘millefy’”\n",
      "Warning message:\n",
      "“replacing previous import ‘IRanges::union’ by ‘dplyr::union’ when loading ‘millefy’”\n",
      "Warning message:\n",
      "“replacing previous import ‘data.table::between’ by ‘dplyr::between’ when loading ‘millefy’”\n",
      "Warning message:\n",
      "“replacing previous import ‘IRanges::collapse’ by ‘dplyr::collapse’ when loading ‘millefy’”\n",
      "Warning message:\n",
      "“replacing previous import ‘IRanges::setdiff’ by ‘dplyr::setdiff’ when loading ‘millefy’”\n",
      "Warning message:\n",
      "“replacing previous import ‘GenomicRanges::subtract’ by ‘magrittr::subtract’ when loading ‘millefy’”\n",
      "Warning message:\n",
      "“replacing previous import ‘magrittr::extract’ by ‘tidyr::extract’ when loading ‘millefy’”\n"
     ]
    }
   ],
   "source": [
    "library(millefy)"
   ]
  },
  {
   "cell_type": "markdown",
   "metadata": {},
   "source": [
    "## Input files"
   ]
  },
  {
   "cell_type": "markdown",
   "metadata": {},
   "source": [
    "### BigWig files and Bam files (scRNA-seq samples)\n",
    "\n",
    "Oh wait, the external data contains some bam files according to [here](https://github.com/yuifu/millefy/blob/cf6cf0c8494df394b71702bfb928ef6bce2c7273/R/millefy-bamImport.R#L10) so I can try to test using bam files and not BigWig files with the external data supplied in the package."
   ]
  },
  {
   "cell_type": "code",
   "execution_count": 7,
   "metadata": {
    "tags": []
   },
   "outputs": [
    {
     "name": "stdout",
     "output_type": "stream",
     "text": [
      "[1] \"/srv/conda/envs/notebook/lib/R/library/millefy/extdata/RamDA_00h_A06.bw\"\n",
      "[2] \"/srv/conda/envs/notebook/lib/R/library/millefy/extdata/RamDA_00h_A07.bw\"\n",
      "[3] \"/srv/conda/envs/notebook/lib/R/library/millefy/extdata/RamDA_00h_A08.bw\"\n",
      "[4] \"/srv/conda/envs/notebook/lib/R/library/millefy/extdata/RamDA_12h_A06.bw\"\n",
      "[5] \"/srv/conda/envs/notebook/lib/R/library/millefy/extdata/RamDA_12h_A07.bw\"\n",
      "[6] \"/srv/conda/envs/notebook/lib/R/library/millefy/extdata/RamDA_12h_A08.bw\"\n",
      " [1] \"/srv/conda/envs/notebook/lib/R/library/millefy/extdata/bam/RamDA_00h_A04.uniq.q40.chr19.bam\"\n",
      " [2] \"/srv/conda/envs/notebook/lib/R/library/millefy/extdata/bam/RamDA_00h_A05.uniq.q40.chr19.bam\"\n",
      " [3] \"/srv/conda/envs/notebook/lib/R/library/millefy/extdata/bam/RamDA_00h_A06.uniq.q40.chr19.bam\"\n",
      " [4] \"/srv/conda/envs/notebook/lib/R/library/millefy/extdata/bam/RamDA_00h_A07.uniq.q40.chr19.bam\"\n",
      " [5] \"/srv/conda/envs/notebook/lib/R/library/millefy/extdata/bam/RamDA_00h_A08.uniq.q40.chr19.bam\"\n",
      " [6] \"/srv/conda/envs/notebook/lib/R/library/millefy/extdata/bam/RamDA_72h_A04.uniq.q40.chr19.bam\"\n",
      " [7] \"/srv/conda/envs/notebook/lib/R/library/millefy/extdata/bam/RamDA_72h_A05.uniq.q40.chr19.bam\"\n",
      " [8] \"/srv/conda/envs/notebook/lib/R/library/millefy/extdata/bam/RamDA_72h_A06.uniq.q40.chr19.bam\"\n",
      " [9] \"/srv/conda/envs/notebook/lib/R/library/millefy/extdata/bam/RamDA_72h_A07.uniq.q40.chr19.bam\"\n",
      "[10] \"/srv/conda/envs/notebook/lib/R/library/millefy/extdata/bam/RamDA_72h_A08.uniq.q40.chr19.bam\"\n"
     ]
    }
   ],
   "source": [
    "# Path to bigWig files\n",
    "bwfiles = Sys.glob(file.path(system.file(\"extdata\", package=\"millefy\"), \"*.bw\"))\n",
    "bamfiles = Sys.glob(file.path(system.file(\"extdata/bam\", package=\"millefy\"), \"*.bam\"))\n",
    "# FROM CODE at https://github.com/yuifu/millefy/blob/cf6cf0c8494df394b71702bfb928ef6bce2c7273/R/millefy-bamImport.R#L10 : bam_files = Sys.glob(file.path(system.file(\"extdata/bam\", package=\"millefy\"), \"*.bam\"))\n",
    "print(bwfiles)\n",
    "print(bamfiles)"
   ]
  },
  {
   "cell_type": "code",
   "execution_count": 8,
   "metadata": {
    "tags": []
   },
   "outputs": [],
   "source": [
    "# Group labels for bam files (same length as bamfiles)\n",
    "groups = c(\"00h\", \"00h\", \"00h\", \"00h\", \"00h\", \"72h\", \"72h\", \"72h\", \"72h\", \"72h\")"
   ]
  },
  {
   "cell_type": "code",
   "execution_count": 9,
   "metadata": {
    "tags": []
   },
   "outputs": [
    {
     "name": "stdout",
     "output_type": "stream",
     "text": [
      "      00h       72h \n",
      "\"#FFFF00\" \"#FF7F00\" \n"
     ]
    }
   ],
   "source": [
    "# Color labels for bigWig files (A named vector with the same length as the number of kinds of \\\\code{groups})\n",
    "color_labels <- colorRampPalette(c(\"yellow\", \"red\"))(length(unique(groups))+1)[1:length(unique(groups))]\n",
    "names(color_labels)  <- unique(groups)\n",
    "print(color_labels)"
   ]
  },
  {
   "cell_type": "markdown",
   "metadata": {},
   "source": [
    "### GTF file (gene models)"
   ]
  },
  {
   "cell_type": "code",
   "execution_count": 10,
   "metadata": {
    "tags": []
   },
   "outputs": [],
   "source": [
    "# Load gene models (It takes a little time)\n",
    "path_gtf = system.file(\"extdata\", \"example.gtf\", package=\"millefy\")\n",
    "dt_gtf_exon <- gtfToDtExon(path_gtf)"
   ]
  },
  {
   "cell_type": "markdown",
   "metadata": {},
   "source": [
    "### Set tracks"
   ]
  },
  {
   "cell_type": "code",
   "execution_count": 16,
   "metadata": {
    "tags": []
   },
   "outputs": [],
   "source": [
    "# Set tracks\n",
    "## Single-cell track\n",
    "max_value = 700\n",
    "scTrackBw <- list(path_bam_files = bamfiles, groups = groups, group_colors = color_labels, max_value = max_value, isBw=FALSE, normFactors = calcBamNormFactors(bamfiles))\n",
    "\n",
    "## Gene annotation track\n",
    "geneTrack1 <- list(path_gtf = path_gtf, dt_gtf = dt_gtf_exon, label = \"GENCODE\")\n",
    "\n",
    "\n",
    "# Prepare arguments for millefyPlot()\n",
    "## List of tracks\n",
    "tdlist <- list(scTrackBw, geneTrack1)\n",
    "\n",
    "## List of track types\n",
    "tt <- c(\"sc\", \"gene\")\n",
    "\n",
    "## List of track hights\n",
    "heights = c(12, 2)"
   ]
  },
  {
   "cell_type": "markdown",
   "metadata": {},
   "source": [
    "Note the changes relative tutorial with BigWig files:\n",
    "\n",
    "- `isBw` is set to `FALSE`\n",
    "- `normFactors = calcBamNormFactors(bamfiles)` is included based on other encountering `error `Error in mat[i, ] <- cov * normFactor[i]: replacement has length zero` when I try to plot using BAM files data. [Documentation contains that example how to set](https://github.com/yuifu/millefy/blob/cf6cf0c8494df394b71702bfb928ef6bce2c7273/man/calcBamNormFactors.Rd#L23C1-L23C43) that I found searching the repo with the term 'normFactor'.\n",
    "- `max_value` lowered or with this data, the intensity of banding heatmap is very light"
   ]
  },
  {
   "cell_type": "markdown",
   "metadata": {},
   "source": [
    "### Set a location"
   ]
  },
  {
   "cell_type": "code",
   "execution_count": 17,
   "metadata": {
    "tags": []
   },
   "outputs": [],
   "source": [
    "# Location to visualize\n",
    "chr =  \"chr19\" # character\n",
    "start = 5824708 # integer\n",
    "end = 5845478 # integer\n",
    "\n",
    "text_main = \"mESC 00h, 72h (FROM Bam files!!!)\""
   ]
  },
  {
   "cell_type": "markdown",
   "metadata": {},
   "source": [
    "## Plot"
   ]
  },
  {
   "cell_type": "markdown",
   "metadata": {},
   "source": [
    "### Default\n",
    "When we don't set the sc_sort_destiny parameter (default), the order of single cells is the order of bwfiles.\n",
    "\n"
   ]
  },
  {
   "cell_type": "code",
   "execution_count": 18,
   "metadata": {
    "tags": []
   },
   "outputs": [
    {
     "name": "stdout",
     "output_type": "stream",
     "text": [
      "[1] \"Begin millefyPlot: 2023-11-21 21:26:42.694956\"\n",
      "[1] \"title\" \"sc\"    \"avg\"   \"gene\"  \"axis\" \n",
      "[1] \"Start importing BAM: 2023-11-21 21:26:42.719163\"\n",
      "[1] \"End importing BAM: 2023-11-21 21:26:45.593525\"\n",
      "[1] \"Finished millefyPlot: 2023-11-21 21:26:45.767093\"\n"
     ]
    },
    {
     "data": {
      "image/png": "[encoded data removed]",
      "text/plain": [
       "plot without title"
      ]
     },
     "metadata": {
      "image/png": {
       "height": 420,
       "width": 420
      }
     },
     "output_type": "display_data"
    }
   ],
   "source": [
    "l <- millefyPlot(track_data=tdlist, track_type=tt, heights=heights,\n",
    "          sc_type = \"heatmap\",\n",
    "          chr = chr, start = start, end = end,\n",
    "          sc_avg = TRUE, sc_avg_height = 1,\n",
    "          title = text_main)"
   ]
  },
  {
   "cell_type": "markdown",
   "metadata": {},
   "source": [
    "**Yes, the included BAM files in the external data (`extdata`) can be used with some appropriate adjustments.** \n",
    "\n",
    "Some threads in the issues, such as [here](https://github.com/yuifu/millefy/issues/3#issuecomment-1276280011) seeme to imply use of BAM files wasn't as direct and to use BigWig files. Maybe back then it wasn't implemented (but I don't think that was the case because the last versions proceeds parts of that discussion). Anyway, what if you had a reason to be concerned about how the BAM files data was being handled and wanted to convert to BigWig yourself first. The next section illustrates how you can to the conversion to BigWig using the BAM files stored in `extdata`. \n",
    " \n",
    "\n",
    "# Example using BigWig files made from using deepTools' `bamCoverage` for conversion first\n",
    "\n",
    "This section covers doing much the same thing as the top section, but first converting to make BigWig files  with [deepTools](https://gensoft.pasteur.fr/docs/deepTools/3.4.1/content/installation.html#command-line-installation-without-pip) and use the converted BigWig files to do the plots.  \n",
    "Why would it be inmportant to have options?\n",
    "\n",
    "Having the abilities to control how the data in the BAM files may be important if what you are doing isn't what the standard approach that `calcBamNormFactors()` carries out see [here](https://github.com/yuifu/millefy/blob/cf6cf0c8494df394b71702bfb928ef6bce2c7273/man/calcBamNormFactors.Rd#L23C1-L23C43)).  \n",
    "This may be useful in cases where you want more control over the normalization. For example, deepTools bamCoverage lets you use effective genome size as normalization and I don't think that Millefy makes this that easy to control. (Maybe I missed how to control it so far though?) For example, I had only collected mapped reads for certain regions of the chromosome using `samtools view` to keep file size managed and so I wanted to be able to use the filter constraints as the genome size settin as the mappable `effectiveGenomeSize`."
   ]
  },
  {
   "cell_type": "markdown",
   "metadata": {},
   "source": [
    "Install while in R kernel in MyBInder Session. (This next cell will take several minutes to run. On the order of close to five minutes.)"
   ]
  },
  {
   "cell_type": "code",
   "execution_count": 9,
   "metadata": {
    "tags": []
   },
   "outputs": [],
   "source": [
    "system(\"pip install deeptools\")"
   ]
  },
  {
   "cell_type": "markdown",
   "metadata": {},
   "source": [
    "Set up sending USAGE to a text file to be able to check installed."
   ]
  },
  {
   "cell_type": "code",
   "execution_count": 10,
   "metadata": {
    "tags": []
   },
   "outputs": [],
   "source": [
    "system(\"deeptools > verify_installed.txt\")"
   ]
  },
  {
   "cell_type": "markdown",
   "metadata": {},
   "source": [
    "Verify pip worked, while in R kernel."
   ]
  },
  {
   "cell_type": "code",
   "execution_count": 11,
   "metadata": {
    "tags": []
   },
   "outputs": [
    {
     "name": "stdout",
     "output_type": "stream",
     "text": [
      "usage: deeptools [-h] [--version]\n",
      "\n",
      "deepTools is a suite of python tools particularly developed for the efficient analysis of\n",
      "high-throughput sequencing data, such as ChIP-seq, RNA-seq or MNase-seq.\n",
      "\n",
      "Each tool should be called by its own name as in the following example:\n",
      "\n",
      " $ bamCoverage -b reads.bam -o coverage.bw\n",
      "\n",
      "If you find deepTools useful for your research please cite as:\n",
      "\n",
      "Ramírez, Fidel, Devon P. Ryan, Björn Grüning, Vivek Bhardwaj, Fabian Kilpert,\n",
      "Andreas S. Richter, Steffen Heyne, Friederike Dündar,\n",
      "and Thomas Manke. 2016. \"deepTools2: A next Generation Web Server for Deep-Sequencing\n",
      "Data Analysis.\" Nucleic Acids Research, April. doi:10.1093/nar/gkw257.\n",
      "\n",
      "[ Tools for BAM and bigWig file processing ]\n",
      "    multiBamSummary         compute read coverages over bam files. Output used for plotCorrelation or plotPCA\n",
      "    multiBigwigSummary      extract scores from bigwig files. Output used for plotCorrelation or plotPCA\n",
      "    correctGCBias           corrects GC bias from bam file. Don't use it with ChIP data\n",
      "    bamCoverage             computes read coverage per bins or regions\n",
      "    bamCompare              computes log2 ratio and other operations of read coverage of two samples per bins or regions\n",
      "    bigwigCompare           computes log2 ratio and other operations from bigwig scores of two samples per bins or regions\n",
      "    bigwigAverage           computes average from bigwig scores of multiple samples per bins or regions\n",
      "    computeMatrix           prepares the data from bigwig scores for plotting with plotHeatmap or plotProfile\n",
      "    alignmentSieve          filters BAM alignments according to specified parameters, optionally producing a BEDPE file\n",
      "\n",
      "[ Tools for QC ]\n",
      "    plotCorrelation         plots heatmaps or scatterplots of data correlation\n",
      "    plotPCA                 plots PCA\n",
      "    plotFingerprint         plots the distribution of enriched regions\n",
      "    bamPEFragmentSize       returns the read length and paired-end distance from a bam file\n",
      "    computeGCBias           computes and plots the GC bias of a sample\n",
      "    plotCoverage            plots a histogram of read coverage\n",
      "    estimateReadFiltering   estimates the number of reads that will be filtered from a BAM file or files given certain criteria\n",
      "\n",
      "[Heatmaps and summary plots]\n",
      "    plotHeatmap             plots one or multiple heatmaps of user selected regions over different genomic scores\n",
      "    plotProfile             plots the average profile of user selected regions over different genomic scores\n",
      "    plotEnrichment          plots the read/fragment coverage of one or more sets of regions\n",
      "\n",
      "[Miscellaneous]\n",
      "    computeMatrixOperations Modifies the output of computeMatrix in a variety of ways.\n",
      "\n",
      "For more information visit: http://deeptools.readthedocs.org\n",
      "\n",
      "options:\n",
      "  -h, --help  show this help message and exit\n",
      "  --version   show program's version number and exit"
     ]
    }
   ],
   "source": [
    "cat(paste0(readLines(\"verify_installed.txt\"), collapse=\"\\n\")) # based on [R - how can I dump contents of file to console output? `cat` equivalent in R](https://stackoverflow.com/a/59799268/8508004)"
   ]
  },
  {
   "cell_type": "code",
   "execution_count": 12,
   "metadata": {
    "tags": []
   },
   "outputs": [
    {
     "data": {
      "text/html": [
       "'/home/jovyan'"
      ],
      "text/latex": [
       "'/home/jovyan'"
      ],
      "text/markdown": [
       "'/home/jovyan'"
      ],
      "text/plain": [
       "[1] \"/home/jovyan\""
      ]
     },
     "metadata": {},
     "output_type": "display_data"
    }
   ],
   "source": [
    "getwd()"
   ]
  },
  {
   "cell_type": "code",
   "execution_count": 13,
   "metadata": {
    "tags": []
   },
   "outputs": [],
   "source": [
    "system(\"cp -r /srv/conda/envs/notebook/lib/R/library/millefy/extdata/bam .\")"
   ]
  },
  {
   "cell_type": "code",
   "execution_count": 14,
   "metadata": {
    "tags": []
   },
   "outputs": [],
   "source": [
    "system(\"mv bam bam2bw_extdata\")"
   ]
  },
  {
   "cell_type": "markdown",
   "metadata": {},
   "source": [
    "This next cell will demonstrate conversion of the BAM files works with deepTools' `bamCoverage` command now. The command uses a coarse `binSize` so that it will execute in a reasonable amount of time. (Like 45 seconds or so.)"
   ]
  },
  {
   "cell_type": "code",
   "execution_count": 15,
   "metadata": {
    "tags": []
   },
   "outputs": [],
   "source": [
    "# based on https://gensoft.pasteur.fr/docs/deepTools/3.4.1/content/tools/bamCoverage.html?highlight=bamcoverage#usage-example-for-chip-seq\n",
    "# and https://github.com/yuifu/millefy/blob/cf6cf0c8494df394b71702bfb928ef6bce2c7273/tutorial/Tutorial.md under [Converting BAM to BigWig files using deepTools](https://github.com/yuifu/millefy/blob/cf6cf0c8494df394b71702bfb928ef6bce2c7273/tutorial/Tutorial.md#1-1-converting-bam-to-bigwig-files-using-deeptools)\n",
    "# and size of mouse chromsome 19 (learned it was mouse in Millefy publication) as `effectiveGenomeSize` because bamCoverage documentation says 'The effective genome size is the portion of the genome that is mappable'\n",
    "# Note because stdout isn't displayed in R kernel in Jupyter, command worked out over in terminal in the same session\n",
    "system(\"bamCoverage --bam bam2bw_extdata/RamDA_00h_A04.uniq.q40.chr19.bam -o bam2bw_extdata/RamDA_00h_A04.uniq.q40.chr19.binsize200.cbw --binSize 200 --normalizeUsing RPGC  --effectiveGenomeSize 61420004\")"
   ]
  },
  {
   "cell_type": "markdown",
   "metadata": {},
   "source": [
    "To save time though, we'll get pre-converted equivalent data with a smaller `binSize` setting (`--binSize 15`). What we'll have when we get and unpack the pre-converted & archived data is the equivalent of running the following code:\n",
    "\n",
    "```R\n",
    "# based on https://gensoft.pasteur.fr/docs/deepTools/3.4.1/content/tools/bamCoverage.html?highlight=bamcoverage#usage-example-for-chip-seq\n",
    "# and https://github.com/yuifu/millefy/blob/cf6cf0c8494df394b71702bfb928ef6bce2c7273/tutorial/Tutorial.md under [Converting BAM to BigWig files using deepTools](https://github.com/yuifu/millefy/blob/cf6cf0c8494df394b71702bfb928ef6bce2c7273/tutorial/Tutorial.md#1-1-converting-bam-to-bigwig-files-using-deeptools)\n",
    "# and size of mouse chromsome 19 (learned it was mouse in Millefy publication) as `effectiveGenomeSize` because bamCoverage documentation says 'The effective genome size is the portion of the genome that is mappable'\n",
    "# Note because stdout isn't displayed in R kernel in Jupyter, command worked out over in terminal in the same session\n",
    "system(\"bamCoverage --bam bam2bw_extdata/RamDA_00h_A04.uniq.q40.chr19.bam -o bam2bw_extdata/RamDA_00h_A04.uniq.q40.chr19.bw --binSize 15 --normalizeUsing RPGC  --effectiveGenomeSize 61420004\")\n",
    "system(\"bamCoverage --bam bam2bw_extdata/RamDA_00h_A05.uniq.q40.chr19.bam -o bam2bw_extdata/RamDA_00h_A05.uniq.q40.chr19.bw --binSize 15 --normalizeUsing RPGC  --effectiveGenomeSize 61420004\")\n",
    "system(\"bamCoverage --bam bam2bw_extdata/RamDA_00h_A06.uniq.q40.chr19.bam -o bam2bw_extdata/RamDA_00h_A06.uniq.q40.chr19.bw --binSize 15 --normalizeUsing RPGC  --effectiveGenomeSize 61420004\")\n",
    "system(\"bamCoverage --bam bam2bw_extdata/RamDA_00h_A07.uniq.q40.chr19.bam -o bam2bw_extdata/RamDA_00h_A07.uniq.q40.chr19.bw --binSize 15 --normalizeUsing RPGC  --effectiveGenomeSize 61420004\")\n",
    "system(\"bamCoverage --bam bam2bw_extdata/RamDA_00h_A08.uniq.q40.chr19.bam -o bam2bw_extdata/RamDA_00h_A08.uniq.q40.chr19.bw --binSize 15 --normalizeUsing RPGC  --effectiveGenomeSize 61420004\")\n",
    "system(\"bamCoverage --bam bam2bw_extdata/RamDA_72h_A04.uniq.q40.chr19.bam -o bam2bw_extdata/RamDA_72h_A04.uniq.q40.chr19.bw --binSize 15 --normalizeUsing RPGC  --effectiveGenomeSize 61420004\")\n",
    "system(\"bamCoverage --bam bam2bw_extdata/RamDA_72h_A05.uniq.q40.chr19.bam -o bam2bw_extdata/RamDA_72h_A05.uniq.q40.chr19.bw --binSize 15 --normalizeUsing RPGC  --effectiveGenomeSize 61420004\")\n",
    "system(\"bamCoverage --bam bam2bw_extdata/RamDA_72h_A06.uniq.q40.chr19.bam -o bam2bw_extdata/RamDA_72h_A06.uniq.q40.chr19.bw --binSize 15 --normalizeUsing RPGC  --effectiveGenomeSize 61420004\")\n",
    "system(\"bamCoverage --bam bam2bw_extdata/RamDA_72h_A07.uniq.q40.chr19.bam -o bam2bw_extdata/RamDA_72h_A07.uniq.q40.chr19.bw --binSize 15 --normalizeUsing RPGC  --effectiveGenomeSize 61420004\")\n",
    "system(\"bamCoverage --bam bam2bw_extdata/RamDA_72h_A08.uniq.q40.chr19.bam -o bam2bw_extdata/RamDA_72h_A08.uniq.q40.chr19.bw --binSize 15 --normalizeUsing RPGC  --effectiveGenomeSize 61420004\")\n",
    "```\n",
    "\n",
    "Run the next cell to get the pre-converted data with the equivalent of `--binSize 15`:"
   ]
  },
  {
   "cell_type": "code",
   "execution_count": 16,
   "metadata": {
    "tags": []
   },
   "outputs": [],
   "source": [
    "system(\"curl -OL https://gist.githubusercontent.com/fomightez/bab4bb92880b9545d20e2d0efc523a24/raw/b35a7e932da23be305b1952611d4ffe114c307ac/ZeroAnd72h_big_wigs.tar.gz\")\n",
    "system(\"tar xzf ZeroAnd72h_big_wigs.tar.gz\")\n",
    "system(\"mv *.bw bam2bw_extdata\")"
   ]
  },
  {
   "cell_type": "code",
   "execution_count": 17,
   "metadata": {
    "tags": []
   },
   "outputs": [
    {
     "name": "stdout",
     "output_type": "stream",
     "text": [
      "      00h       72h \n",
      "\"#FFFF00\" \"#FF7F00\" \n"
     ]
    }
   ],
   "source": [
    "# Group labels for bam files (same length as bamfiles)\n",
    "groups = c(\"00h\", \"00h\", \"00h\", \"00h\", \"00h\", \"72h\", \"72h\", \"72h\", \"72h\", \"72h\")\n",
    "converted_bamfiles = Sys.glob(file.path(\"bam2bw_extdata/\", \"*.bw\"))\n",
    "\n",
    "# Color labels for bigWig files (A named vector with the same length as the number of kinds of \\\\code{groups})\n",
    "color_labels <- colorRampPalette(c(\"yellow\", \"red\"))(length(unique(groups))+1)[1:length(unique(groups))]\n",
    "names(color_labels)  <- unique(groups)\n",
    "print(color_labels)\n",
    "\n",
    "# Load gene models (It takes a little time)\n",
    "path_gtf = system.file(\"extdata\", \"example.gtf\", package=\"millefy\")\n",
    "dt_gtf_exon <- gtfToDtExon(path_gtf)\n",
    "\n",
    "# Set tracks\n",
    "## Single-cell track\n",
    "max_value = 700 # NEEDS TO BE LOWER FOR THE CONVERTED BAM FILES\n",
    "scTrackBw <- list(path_bam_files = converted_bamfiles, groups = groups, group_colors = color_labels, max_value = max_value, isBw=TRUE)\n",
    "\n",
    "## Gene annotation track\n",
    "geneTrack1 <- list(path_gtf = path_gtf, dt_gtf = dt_gtf_exon, label = \"GENCODE\")\n",
    "\n",
    "\n",
    "# Prepare arguments for millefyPlot()\n",
    "## List of tracks\n",
    "tdlist <- list(scTrackBw, geneTrack1)\n",
    "\n",
    "## List of track types\n",
    "tt <- c(\"sc\", \"gene\")\n",
    "\n",
    "## List of track hights\n",
    "heights = c(12, 2)\n",
    "\n",
    "# Location to visualize\n",
    "chr =  \"chr19\" # character\n",
    "start = 5824708 # integer\n",
    "end = 5845478 # integer\n",
    "\n",
    "text_main = \"mESC 00h, 72h (FROM Bam files!!!)\""
   ]
  },
  {
   "cell_type": "code",
   "execution_count": 19,
   "metadata": {
    "tags": []
   },
   "outputs": [
    {
     "data": {
      "text/html": [
       "<style>\n",
       ".list-inline {list-style: none; margin:0; padding: 0}\n",
       ".list-inline>li {display: inline-block}\n",
       ".list-inline>li:not(:last-child)::after {content: \"\\00b7\"; padding: 0 .5ex}\n",
       "</style>\n",
       "<ol class=list-inline><li>'bam2bw_extdata//RamDA_00h_A04.uniq.q40.chr19.bw'</li><li>'bam2bw_extdata//RamDA_00h_A05.uniq.q40.chr19.bw'</li><li>'bam2bw_extdata//RamDA_00h_A06.uniq.q40.chr19.bw'</li><li>'bam2bw_extdata//RamDA_00h_A07.uniq.q40.chr19.bw'</li><li>'bam2bw_extdata//RamDA_00h_A08.uniq.q40.chr19.bw'</li><li>'bam2bw_extdata//RamDA_72h_A04.uniq.q40.chr19.bw'</li><li>'bam2bw_extdata//RamDA_72h_A05.uniq.q40.chr19.bw'</li><li>'bam2bw_extdata//RamDA_72h_A06.uniq.q40.chr19.bw'</li><li>'bam2bw_extdata//RamDA_72h_A07.uniq.q40.chr19.bw'</li><li>'bam2bw_extdata//RamDA_72h_A08.uniq.q40.chr19.bw'</li></ol>\n"
      ],
      "text/latex": [
       "\\begin{enumerate*}\n",
       "\\item 'bam2bw\\_extdata//RamDA\\_00h\\_A04.uniq.q40.chr19.bw'\n",
       "\\item 'bam2bw\\_extdata//RamDA\\_00h\\_A05.uniq.q40.chr19.bw'\n",
       "\\item 'bam2bw\\_extdata//RamDA\\_00h\\_A06.uniq.q40.chr19.bw'\n",
       "\\item 'bam2bw\\_extdata//RamDA\\_00h\\_A07.uniq.q40.chr19.bw'\n",
       "\\item 'bam2bw\\_extdata//RamDA\\_00h\\_A08.uniq.q40.chr19.bw'\n",
       "\\item 'bam2bw\\_extdata//RamDA\\_72h\\_A04.uniq.q40.chr19.bw'\n",
       "\\item 'bam2bw\\_extdata//RamDA\\_72h\\_A05.uniq.q40.chr19.bw'\n",
       "\\item 'bam2bw\\_extdata//RamDA\\_72h\\_A06.uniq.q40.chr19.bw'\n",
       "\\item 'bam2bw\\_extdata//RamDA\\_72h\\_A07.uniq.q40.chr19.bw'\n",
       "\\item 'bam2bw\\_extdata//RamDA\\_72h\\_A08.uniq.q40.chr19.bw'\n",
       "\\end{enumerate*}\n"
      ],
      "text/markdown": [
       "1. 'bam2bw_extdata//RamDA_00h_A04.uniq.q40.chr19.bw'\n",
       "2. 'bam2bw_extdata//RamDA_00h_A05.uniq.q40.chr19.bw'\n",
       "3. 'bam2bw_extdata//RamDA_00h_A06.uniq.q40.chr19.bw'\n",
       "4. 'bam2bw_extdata//RamDA_00h_A07.uniq.q40.chr19.bw'\n",
       "5. 'bam2bw_extdata//RamDA_00h_A08.uniq.q40.chr19.bw'\n",
       "6. 'bam2bw_extdata//RamDA_72h_A04.uniq.q40.chr19.bw'\n",
       "7. 'bam2bw_extdata//RamDA_72h_A05.uniq.q40.chr19.bw'\n",
       "8. 'bam2bw_extdata//RamDA_72h_A06.uniq.q40.chr19.bw'\n",
       "9. 'bam2bw_extdata//RamDA_72h_A07.uniq.q40.chr19.bw'\n",
       "10. 'bam2bw_extdata//RamDA_72h_A08.uniq.q40.chr19.bw'\n",
       "\n",
       "\n"
      ],
      "text/plain": [
       " [1] \"bam2bw_extdata//RamDA_00h_A04.uniq.q40.chr19.bw\"\n",
       " [2] \"bam2bw_extdata//RamDA_00h_A05.uniq.q40.chr19.bw\"\n",
       " [3] \"bam2bw_extdata//RamDA_00h_A06.uniq.q40.chr19.bw\"\n",
       " [4] \"bam2bw_extdata//RamDA_00h_A07.uniq.q40.chr19.bw\"\n",
       " [5] \"bam2bw_extdata//RamDA_00h_A08.uniq.q40.chr19.bw\"\n",
       " [6] \"bam2bw_extdata//RamDA_72h_A04.uniq.q40.chr19.bw\"\n",
       " [7] \"bam2bw_extdata//RamDA_72h_A05.uniq.q40.chr19.bw\"\n",
       " [8] \"bam2bw_extdata//RamDA_72h_A06.uniq.q40.chr19.bw\"\n",
       " [9] \"bam2bw_extdata//RamDA_72h_A07.uniq.q40.chr19.bw\"\n",
       "[10] \"bam2bw_extdata//RamDA_72h_A08.uniq.q40.chr19.bw\""
      ]
     },
     "metadata": {},
     "output_type": "display_data"
    }
   ],
   "source": [
    "converted_bamfiles"
   ]
  },
  {
   "cell_type": "markdown",
   "metadata": {},
   "source": [
    "Now to plot those using the converted BAM files."
   ]
  },
  {
   "cell_type": "code",
   "execution_count": 18,
   "metadata": {
    "tags": []
   },
   "outputs": [
    {
     "name": "stdout",
     "output_type": "stream",
     "text": [
      "[1] \"Begin millefyPlot: 2023-11-17 22:07:22.388699\"\n",
      "[1] \"title\" \"sc\"    \"avg\"   \"gene\"  \"axis\" \n",
      "[1] \"Importing BigWig: 2023-11-17 22:07:22.416088\"\n",
      "[1] \"Finished millefyPlot: 2023-11-17 22:07:25.086762\"\n"
     ]
    },
    {
     "data": {
      "image/png": "[encoded data removed]",
      "text/plain": [
       "plot without title"
      ]
     },
     "metadata": {
      "image/png": {
       "height": 420,
       "width": 420
      }
     },
     "output_type": "display_data"
    }
   ],
   "source": [
    "l <- millefyPlot(track_data=tdlist, track_type=tt, heights=heights,\n",
    "          sc_type = \"heatmap\",\n",
    "          chr = chr, start = start, end = end,\n",
    "          sc_avg = TRUE, sc_avg_height = 1,\n",
    "          title = text_main)"
   ]
  },
  {
   "cell_type": "markdown",
   "metadata": {},
   "source": [
    "Works with the BAM files included in the `extdata` if you convert with deepTools' `bamCoverage`!"
   ]
  }
 ],
 "metadata": {
  "kernelspec": {
   "display_name": "R",
   "language": "R",
   "name": "ir"
  },
  "language_info": {
   "codemirror_mode": "r",
   "file_extension": ".r",
   "mimetype": "text/x-r-source",
   "name": "R",
   "pygments_lexer": "r",
   "version": "4.3.2"
  }
 },
 "nbformat": 4,
 "nbformat_minor": 4
}
